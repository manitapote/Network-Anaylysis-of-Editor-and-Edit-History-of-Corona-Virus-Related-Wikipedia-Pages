{
 "cells": [
  {
   "cell_type": "code",
   "execution_count": 31,
   "metadata": {},
   "outputs": [
    {
     "name": "stdout",
     "output_type": "stream",
     "text": [
      "Convert to csv complete\n"
     ]
    }
   ],
   "source": [
    "import requests\n",
    "from collections import Counter\n",
    "import pandas as pd\n",
    "\n",
    "S = requests.Session()\n",
    "\n",
    "URL = \"https://en.wikipedia.org/w/api.php\"\n",
    "\n",
    "SEARCHPAGE = \"coronavirus\"\n",
    "\n",
    "PARAMS = {\n",
    "    \"action\": \"query\",\n",
    "    \"format\": \"json\",\n",
    "    \"list\": \"search\",\n",
    "    \"srsearch\": SEARCHPAGE,\n",
    "    \"srlimit\": 500,\n",
    "    \"props\" : 'pageviews',\n",
    "    \"srqiprofile\": 'popular_inclinks_pv',\n",
    "    \"sroffset\": 0\n",
    "}\n",
    "\n",
    "data = []\n",
    "for j in range(0, DATA['query']['searchinfo']['totalhits'], 500 ):\n",
    "    PARAMS['sroffset'] = j\n",
    "    DATA = (S.get(url=URL, params=PARAMS)).json()\n",
    "    for i in DATA['query']['search']:\n",
    "        data.append([i['pageid'], i['title']])\n",
    "\n",
    "column_names = ['page_id', 'title']\n",
    "df = pd.DataFrame(data, columns=column_names)\n",
    "df.to_csv(\"./DATA/pages.csv\",encoding = \"utf-8\", index=False, header=True)\n",
    "print(\"Convert to csv complete\")"
   ]
  },
  {
   "cell_type": "code",
   "execution_count": null,
   "metadata": {},
   "outputs": [],
   "source": []
  }
 ],
 "metadata": {
  "kernelspec": {
   "display_name": "Python 3",
   "language": "python",
   "name": "python3"
  },
  "language_info": {
   "codemirror_mode": {
    "name": "ipython",
    "version": 3
   },
   "file_extension": ".py",
   "mimetype": "text/x-python",
   "name": "python",
   "nbconvert_exporter": "python",
   "pygments_lexer": "ipython3",
   "version": "3.7.6"
  }
 },
 "nbformat": 4,
 "nbformat_minor": 2
}
