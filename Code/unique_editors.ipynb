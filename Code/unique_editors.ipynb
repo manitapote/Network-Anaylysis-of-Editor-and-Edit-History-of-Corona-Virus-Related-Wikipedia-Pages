{
 "cells": [
  {
   "cell_type": "markdown",
   "metadata": {},
   "source": [
    "# Gets only the unique editors for pages"
   ]
  },
  {
   "cell_type": "code",
   "execution_count": 1,
   "metadata": {},
   "outputs": [],
   "source": [
    "import glob\n",
    "import numpy as np\n",
    "import pandas as pd\n",
    "from pathlib import Path"
   ]
  },
  {
   "cell_type": "code",
   "execution_count": 2,
   "metadata": {},
   "outputs": [],
   "source": [
    "path = r'./../DATA/' \n",
    "all_files = glob.glob(path + 'Page_Edit_Filter/*.csv')\n",
    "dfObj = pd.DataFrame(columns=['user'])\n",
    "\n",
    "Path(path + 'Unique_Editors').mkdir(parents=True, exist_ok=True)\n",
    "\n",
    "for filename in all_files:\n",
    "    df = pd.read_csv(filename, index_col=None, header=0)\n",
    "    data = df.user.unique()\n",
    "    user_df = pd.DataFrame(data, \n",
    "                           index=range(data.shape[0]), \n",
    "                           columns =['user'])   \n",
    "    \n",
    "    user_df.to_csv(\"{}Unique_Editors/{}\".format(path, filename.split('/')[-1]),\n",
    "                   encoding = \"utf-8\", \n",
    "                   index=False, \n",
    "                   header=True)"
   ]
  }
 ],
 "metadata": {
  "kernelspec": {
   "display_name": "Python 3",
   "language": "python",
   "name": "python3"
  },
  "language_info": {
   "codemirror_mode": {
    "name": "ipython",
    "version": 3
   },
   "file_extension": ".py",
   "mimetype": "text/x-python",
   "name": "python",
   "nbconvert_exporter": "python",
   "pygments_lexer": "ipython3",
   "version": "3.7.6"
  }
 },
 "nbformat": 4,
 "nbformat_minor": 2
}
