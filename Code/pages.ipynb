{
 "cells": [
  {
   "cell_type": "markdown",
   "metadata": {},
   "source": [
    "<h1>Gets wikipedia pages with 'coronavirus' word mentioned in title and creates csv file</h1>"
   ]
  },
  {
   "cell_type": "code",
   "execution_count": 1,
   "metadata": {},
   "outputs": [],
   "source": [
    "import requests\n",
    "import pandas as pd\n",
    "from pathlib import Path"
   ]
  },
  {
   "cell_type": "markdown",
   "metadata": {},
   "source": [
    "Prepares url and parameters for Wikipedia api request\n"
   ]
  },
  {
   "cell_type": "code",
   "execution_count": 2,
   "metadata": {},
   "outputs": [],
   "source": [
    "S = requests.Session()\n",
    "\n",
    "URL = \"https://en.wikipedia.org/w/api.php\"\n",
    "\n",
    "SEARCHPAGE = \"coronavirus\"\n",
    "\n",
    "PARAMS = {\n",
    "    \"action\": \"query\",\n",
    "    \"format\": \"json\",\n",
    "    \"list\": \"search\",\n",
    "    \"srsearch\": SEARCHPAGE,\n",
    "    \"srlimit\": 500,\n",
    "    \"sroffset\": 0\n",
    "}"
   ]
  },
  {
   "cell_type": "markdown",
   "metadata": {},
   "source": [
    "Calls wikipedia api and creates a dataframe with columns page_id and title"
   ]
  },
  {
   "cell_type": "code",
   "execution_count": 3,
   "metadata": {},
   "outputs": [
    {
     "name": "stdout",
     "output_type": "stream",
     "text": [
      "(7460, 2)\n",
      "    page_id                                              title\n",
      "0    201983                                        Coronavirus\n",
      "1  62750956                       2019–20 coronavirus pandemic\n",
      "2  62883290                                Coronavirus disease\n",
      "3  37132465  Middle East respiratory syndrome-related coron...\n",
      "4  62786585    Severe acute respiratory syndrome coronavirus 2\n"
     ]
    }
   ],
   "source": [
    "total = (S.get(url=URL, params=PARAMS)).json()['query']['searchinfo']['totalhits']\n",
    "\n",
    "df = pd.DataFrame(columns=['page_id', 'title'])\n",
    "\n",
    "for PARAMS['sroffset'] in range(0, total + 1, 500 ):\n",
    "    DATA = (S.get(url=URL, params=PARAMS)).json()\n",
    "\n",
    "    for i in DATA['query']['search']:\n",
    "        df = df.append(\n",
    "                pd.Series([i['pageid'], i['title']], index = df.columns),\n",
    "                ignore_index=True)\n",
    "        \n",
    "df = df.drop_duplicates(['page_id'])\n",
    "\n",
    "print(df.shape)\n",
    "print(df.head())"
   ]
  },
  {
   "cell_type": "markdown",
   "metadata": {},
   "source": [
    "Creates csv file for pages with 'coronavirus' word mentioned"
   ]
  },
  {
   "cell_type": "code",
   "execution_count": 4,
   "metadata": {},
   "outputs": [],
   "source": [
    "path = \"./../DATA/pages\"\n",
    "\n",
    "Path(path).mkdir(parents=True, exist_ok=True)\n",
    "\n",
    "df.to_csv(\"{}/pages.csv\".format(path), \n",
    "          encoding = \"utf-8\", index=False, header=True)"
   ]
  },
  {
   "cell_type": "markdown",
   "metadata": {},
   "source": [
    "Filters pages with word 'coronavirus' mentioned in title page"
   ]
  },
  {
   "cell_type": "code",
   "execution_count": 5,
   "metadata": {},
   "outputs": [
    {
     "name": "stdout",
     "output_type": "stream",
     "text": [
      "(379, 2)\n",
      "    page_id                                              title\n",
      "0    201983                                        Coronavirus\n",
      "1  62750956                       2019–20 coronavirus pandemic\n",
      "2  62883290                                Coronavirus disease\n",
      "3  37132465  Middle East respiratory syndrome-related coron...\n",
      "4  62786585    Severe acute respiratory syndrome coronavirus 2\n"
     ]
    }
   ],
   "source": [
    "filtered_df = pd.DataFrame(\n",
    "    df[df['title'].str.contains('coronavirus', case = False)])\n",
    "\n",
    "print(filtered_df.shape)\n",
    "print(filtered_df.head())"
   ]
  },
  {
   "cell_type": "markdown",
   "metadata": {},
   "source": [
    "Creates csv file for pages with coronavirus word mentioned in title"
   ]
  },
  {
   "cell_type": "code",
   "execution_count": 6,
   "metadata": {},
   "outputs": [],
   "source": [
    "filtered_df.to_csv(\n",
    "    \"{}/pages_filtered.csv\".format(path),\n",
    "    encoding = \"utf-8\", \n",
    "    index=False, \n",
    "    header=True)"
   ]
  },
  {
   "cell_type": "code",
   "execution_count": null,
   "metadata": {},
   "outputs": [],
   "source": []
  }
 ],
 "metadata": {
  "kernelspec": {
   "display_name": "Python 3",
   "language": "python",
   "name": "python3"
  },
  "language_info": {
   "codemirror_mode": {
    "name": "ipython",
    "version": 3
   },
   "file_extension": ".py",
   "mimetype": "text/x-python",
   "name": "python",
   "nbconvert_exporter": "python",
   "pygments_lexer": "ipython3",
   "version": "3.7.6"
  }
 },
 "nbformat": 4,
 "nbformat_minor": 2
}
