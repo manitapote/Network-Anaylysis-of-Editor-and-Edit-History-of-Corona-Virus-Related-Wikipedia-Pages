{
 "cells": [
  {
   "cell_type": "markdown",
   "metadata": {},
   "source": [
    "# Creates unique page, editor and page-editor edge csv file"
   ]
  },
  {
   "cell_type": "code",
   "execution_count": 1,
   "metadata": {},
   "outputs": [],
   "source": [
    "import glob\n",
    "import numpy as np\n",
    "import pandas as pd\n",
    "from pathlib import Path"
   ]
  },
  {
   "cell_type": "code",
   "execution_count": 2,
   "metadata": {},
   "outputs": [],
   "source": [
    "path = './../DATA/'\n",
    "all_files = glob.glob(path + \"Unique_Editors/*.csv\")\n",
    "data = []\n",
    "pageIds = []\n",
    "dfUser = pd.DataFrame(columns=['user'])\n",
    "dfObj = pd.DataFrame(columns=['source', 'target', 'weight'])\n",
    "\n",
    "for filename in all_files:\n",
    "    df = pd.read_csv(filename, index_col=None, header=0)\n",
    "    pageid = (filename.split('_')[-1]).split('.')[0]\n",
    "    df['user'] = df['user'].astype('str')\n",
    "    \n",
    "    if not df.empty:\n",
    "        pageIds.append(pageid)\n",
    "        \n",
    "    for i, row in df.iterrows():\n",
    "        data.append({'source': pageid, 'target': row['user'], 'weight': 1})\n",
    "        \n",
    "    dfUser = pd.concat([dfUser, df], ignore_index=True)"
   ]
  },
  {
   "cell_type": "markdown",
   "metadata": {},
   "source": [
    "Creates csv file for unique page"
   ]
  },
  {
   "cell_type": "code",
   "execution_count": 3,
   "metadata": {},
   "outputs": [],
   "source": [
    "Path(path + 'Graph').mkdir(parents=True, exist_ok=True)\n",
    "\n",
    "pd.DataFrame(\n",
    "    {'page_id': pageIds}).to_csv(\"{}unique_page_node.csv\".format(path + 'Graph/'), \n",
    "    encoding = \"utf-8\", \n",
    "    index=False, \n",
    "    header=True)"
   ]
  },
  {
   "cell_type": "markdown",
   "metadata": {},
   "source": [
    "Creates csv file for unique editors"
   ]
  },
  {
   "cell_type": "code",
   "execution_count": 4,
   "metadata": {},
   "outputs": [],
   "source": [
    "dfUser['user'] = dfUser['user'].str.replace(r\"\\\\\", \"\")\n",
    "\n",
    "pd.DataFrame({'user': dfUser['user'].unique()}).to_csv(\n",
    "    \"{}unique_editors_node.csv\".format(path + 'Graph/'), \n",
    "    encoding = \"utf-8\", \n",
    "    index=False, \n",
    "    header=True)"
   ]
  },
  {
   "cell_type": "markdown",
   "metadata": {},
   "source": [
    "Create page editor edglist csv file"
   ]
  },
  {
   "cell_type": "code",
   "execution_count": 5,
   "metadata": {},
   "outputs": [],
   "source": [
    "pd.DataFrame(data).to_csv(\n",
    "    \"{}page_editor_edgelist.csv\".format(path + 'Graph/'), \n",
    "    encoding = \"utf-8\", \n",
    "    index=False, \n",
    "    header=True)"
   ]
  }
 ],
 "metadata": {
  "kernelspec": {
   "display_name": "Python 3",
   "language": "python",
   "name": "python3"
  },
  "language_info": {
   "codemirror_mode": {
    "name": "ipython",
    "version": 3
   },
   "file_extension": ".py",
   "mimetype": "text/x-python",
   "name": "python",
   "nbconvert_exporter": "python",
   "pygments_lexer": "ipython3",
   "version": "3.7.6"
  }
 },
 "nbformat": 4,
 "nbformat_minor": 2
}
