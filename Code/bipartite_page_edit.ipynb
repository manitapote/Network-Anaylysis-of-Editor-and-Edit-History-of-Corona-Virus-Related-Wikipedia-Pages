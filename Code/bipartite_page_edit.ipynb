{
 "cells": [
  {
   "cell_type": "markdown",
   "metadata": {},
   "source": [
    "# Creates the bipartite graph for the page-editor csv"
   ]
  },
  {
   "cell_type": "code",
   "execution_count": 1,
   "metadata": {},
   "outputs": [],
   "source": [
    "import pandas as pd\n",
    "import numpy as np\n",
    "import networkx as nx\n",
    "from pathlib import Path\n",
    "import matplotlib.pyplot as plt\n",
    "from networkx.algorithms import bipartite"
   ]
  },
  {
   "cell_type": "markdown",
   "metadata": {},
   "source": [
    "Creates the bi-partite graph for page and editors"
   ]
  },
  {
   "cell_type": "code",
   "execution_count": 2,
   "metadata": {},
   "outputs": [
    {
     "data": {
      "image/png": "[encoded data removed]",
      "text/plain": [
       "<Figure size 432x288 with 1 Axes>"
      ]
     },
     "metadata": {},
     "output_type": "display_data"
    }
   ],
   "source": [
    "path = './../DATA'\n",
    "\n",
    "page_id_nodes = pd.read_csv('{}/Graph/unique_page_node.csv'.format(path),\n",
    "                            index_col=None,\n",
    "                            header=0)\n",
    "editor_nodes = pd.read_csv('{}/Graph/unique_editors_node.csv'.format(path), \n",
    "                           index_col=None, \n",
    "                           header=0)\n",
    "edge_list = pd.read_csv('{}/Graph/page_editor_edgelist.csv'.format(path), \n",
    "                        index_col=None, \n",
    "                        header=0)\n",
    "\n",
    "B = nx.Graph()\n",
    "page_ids = page_id_nodes['page_id'].tolist()\n",
    "editors = editor_nodes['user'].tolist()\n",
    "\n",
    "B.add_nodes_from(page_ids, bipartite=0)\n",
    "B.add_nodes_from(editors, bipartite=1)\n",
    "B.add_edges_from(edge_list[['source', 'target']].to_records(index=False))\n",
    "\n",
    "l,r = nx.bipartite.sets(B)\n",
    "pos = {}\n",
    "\n",
    "pos.update((node, (1, index)) for index, node in enumerate(l))\n",
    "pos.update((node, (2, index)) for index, node in enumerate(r))\n",
    "\n",
    "nx.draw(B, pos=pos)\n",
    "plt.show()\n"
   ]
  },
  {
   "cell_type": "markdown",
   "metadata": {},
   "source": [
    "Creates the gml file for the graph"
   ]
  },
  {
   "cell_type": "code",
   "execution_count": 3,
   "metadata": {},
   "outputs": [],
   "source": [
    "Path(path + '/GML').mkdir(parents=True, exist_ok=True)\n",
    "\n",
    "nx.write_gml(B, path + \"/GML/editor_page_bipartite_graph.gml\")"
   ]
  }
 ],
 "metadata": {
  "kernelspec": {
   "display_name": "Python 3",
   "language": "python",
   "name": "python3"
  },
  "language_info": {
   "codemirror_mode": {
    "name": "ipython",
    "version": 3
   },
   "file_extension": ".py",
   "mimetype": "text/x-python",
   "name": "python",
   "nbconvert_exporter": "python",
   "pygments_lexer": "ipython3",
   "version": "3.7.6"
  }
 },
 "nbformat": 4,
 "nbformat_minor": 2
}
